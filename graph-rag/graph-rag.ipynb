{
 "cells": [
  {
   "cell_type": "markdown",
   "metadata": {},
   "source": [
    "# Graph - RAG chatbot\n",
    "\n",
    "## Insert information into vector and graph database"
   ]
  },
  {
   "cell_type": "code",
   "execution_count": null,
   "metadata": {},
   "outputs": [],
   "source": [
    "import openai\n",
    "import os\n",
    "import llama_index\n",
    "from dotenv import load_dotenv\n",
    "from llama_index import VectorStoreIndex, SimpleDirectoryReader\n",
    "from llama_index.embeddings.openai import OpenAIEmbedding\n",
    "\n",
    "# Set up API keys and database\n",
    "load_dotenv()\n",
    "openai.api_key = os.getenv(\"OPENAI_API_KEY\")\n",
    "DATA_FOLDER = os.getenv(\"PDF_FOLDER\", \"../data/\")\n",
    "DB_PARAMS = {\n",
    "    \"user\": os.getenv(\"POSTGRES_USER\"),\n",
    "    \"password\": os.getenv(\"POSTGRES_PASSWORD\"),\n",
    "    \"host\": os.getenv(\"POSTGRES_HOST\", \"localhost\"),\n",
    "    \"port\": int(os.getenv(\"POSTGRES_PORT\", \"5432\")),\n",
    "    \"database\": os.getenv(\"POSTGRES_DB\"),\n",
    "}\n",
    "\n",
    "EMBED_MODEL = \"text-embedding-ada-002\"'\n",
    "\n",
    "# Initialize the postgres connection\n",
    "def pg_connect():\n",
    "    return psycopg2.connect(**DB_PARAMS)\n"
   ]
  }
 ],
 "metadata": {
  "language_info": {
   "name": "python"
  }
 },
 "nbformat": 4,
 "nbformat_minor": 2
}
